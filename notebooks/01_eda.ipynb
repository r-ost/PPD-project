{
 "cells": [
  {
   "cell_type": "code",
   "execution_count": 1,
   "id": "f3e47842",
   "metadata": {},
   "outputs": [],
   "source": [
    "import sys\n",
    "sys.path.append('../src')\n",
    "\n",
    "from data.download import download_yelp_data\n",
    "import pandas as pd\n",
    "import numpy as np\n",
    "from sklearn.cluster import KMeans\n",
    "\n",
    "from matplotlib import pyplot as plt\n",
    "import seaborn as sns"
   ]
  },
  {
   "cell_type": "markdown",
   "id": "3ac44a13",
   "metadata": {},
   "source": [
    "# 1. Pobranie danych"
   ]
  },
  {
   "cell_type": "code",
   "execution_count": 2,
   "id": "8da9b153",
   "metadata": {},
   "outputs": [
    {
     "name": "stdout",
     "output_type": "stream",
     "text": [
      "Checking if Yelp data already exists...\n",
      "Found zip file at ../data/raw\\Yelp-JSON.zip.\n",
      "Extracting ZIP archive...\n",
      "Extracting TAR archive...\n",
      "TAR file extracted successfully.\n",
      "Data has been extracted to e:\\Projects\\PPD-project\\data\\raw\n"
     ]
    }
   ],
   "source": [
    "download_yelp_data(output_dir=\"../data/raw\")"
   ]
  },
  {
   "cell_type": "markdown",
   "id": "b7ca035b",
   "metadata": {},
   "source": [
    "## 2. EDA"
   ]
  },
  {
   "cell_type": "markdown",
   "id": "e0645572",
   "metadata": {},
   "source": [
    "- \"Przeprowadzić wstępną eksplorację danych (np. liczba przykładów, rozkład klas).\""
   ]
  },
  {
   "cell_type": "code",
   "execution_count": 3,
   "id": "80da7133",
   "metadata": {},
   "outputs": [
    {
     "name": "stdout",
     "output_type": "stream",
     "text": [
      "Number of reviews: 6990280\n"
     ]
    }
   ],
   "source": [
    "df = pd.read_json(\"../data/raw/Yelp JSON/yelp_dataset/yelp_academic_dataset_review.json\", lines=True)\n",
    "print(f\"Number of reviews: {len(df)}\")"
   ]
  },
  {
   "cell_type": "code",
   "execution_count": 4,
   "id": "3cc0e5de",
   "metadata": {},
   "outputs": [],
   "source": [
    "# TODO"
   ]
  },
  {
   "cell_type": "markdown",
   "id": "e39741b0",
   "metadata": {},
   "source": [
    "# 3. Przygotowanie splitu"
   ]
  },
  {
   "cell_type": "markdown",
   "id": "f9473cdd",
   "metadata": {},
   "source": [
    "- \"\"Podział danych: ~20 000 przykładów (train), 2 000 (val), 5 000 (test). Stratyfikacja przy klasyfikacji. Balans klas (down/up-sampling).\"\n",
    "- \"Minimalny preprocessing: usunięcie duplikatów, czyszczenie HTML/URL. Ucinamy ekstremalnie długie teksty (≤512–1024 tokenów).\"\n",
    "- \"Usunięcie braków danych.\""
   ]
  },
  {
   "cell_type": "code",
   "execution_count": 5,
   "id": "d60f1bbf",
   "metadata": {},
   "outputs": [],
   "source": [
    "# TODO"
   ]
  }
 ],
 "metadata": {
  "kernelspec": {
   "display_name": "Python 3 (ipykernel)",
   "language": "python",
   "name": "python3"
  },
  "language_info": {
   "codemirror_mode": {
    "name": "ipython",
    "version": 3
   },
   "file_extension": ".py",
   "mimetype": "text/x-python",
   "name": "python",
   "nbconvert_exporter": "python",
   "pygments_lexer": "ipython3",
   "version": "3.13.7"
  }
 },
 "nbformat": 4,
 "nbformat_minor": 5
}
